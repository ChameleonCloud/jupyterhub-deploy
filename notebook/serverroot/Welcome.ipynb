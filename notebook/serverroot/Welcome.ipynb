{
 "cells": [
  {
   "cell_type": "markdown",
   "metadata": {},
   "source": [
    "# Welcome to Jupyter on Chameleon!\n",
    "\n",
    "We have prepared a few tutorials you may want to check out, if you'd like to learn more about Chameleon. You should see a `notebooks` folder in your home directory. Check it out! There are a lot of great resources there. In particular, we include some helpful tutorials and examples. We update and add to these notebooks over time as new features are released or new tutorials are created, so if you haven't checked in a while, take some time to see if there's anything new that looks interesting to you.\n",
    "\n",
    "## Tutorials\n",
    "\n",
    "### Getting started\n",
    "\n",
    "These interactive guides are a great introduction to the testbed.\n",
    "\n",
    "- [Introduction to Chameleon](./notebooks/tutorials/getting-started/IntroductionToChameleon.ipynb)\n",
    "- [Command Line Interface (CLI)](./notebooks/tutorials/getting-started/CommandLineInterface.ipynb)\n",
    "- [Data Management](./notebooks/tutorials/getting-started/DataManagement.ipynb)\n",
    "- [Orchestration](./notebooks/tutorials/getting-started/Orchestration.ipynb)\n",
    "\n",
    "### Networking\n",
    "\n",
    "We have several tutorials focused exclusively on setting up interesting networking experiments.\n",
    "\n",
    "- [Creating OSI Layer 2 DirectStitch Connections](./notebooks/tutorials/networking/Tutorial-DirectStitch.ipynb)\n",
    "- [Bring Your Own Controller (BYOC)](./notebooks/tutorials/networking/BringYourOwnController.ipynb)\n",
    "\n",
    "## Examples\n",
    "\n",
    "The `notebooks/examples` folder contains some examples of experiments or other interesting things you can configure Chameleon to do."
   ]
  },
  {
   "cell_type": "code",
   "execution_count": null,
   "metadata": {},
   "outputs": [],
   "source": []
  }
 ],
 "metadata": {
  "kernelspec": {
   "display_name": "Python 3",
   "language": "python",
   "name": "python3"
  },
  "language_info": {
   "codemirror_mode": {
    "name": "ipython",
    "version": 3
   },
   "file_extension": ".py",
   "mimetype": "text/x-python",
   "name": "python",
   "nbconvert_exporter": "python",
   "pygments_lexer": "ipython3",
   "version": "3.7.3"
  }
 },
 "nbformat": 4,
 "nbformat_minor": 2
}
