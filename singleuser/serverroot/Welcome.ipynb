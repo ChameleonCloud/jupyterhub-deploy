{
 "cells": [
  {
   "cell_type": "markdown",
   "metadata": {},
   "source": [
    "# Welcome to Jupyter on Chameleon!"
   ]
  },
  {
   "cell_type": "markdown",
   "metadata": {},
   "source": [
    "## Getting started\n",
    "\n",
    "Before you do anything, you should first set up a few project variables. This is so the Jupyter Notebook knows which project to operate on. If you are only a member of one project, you can skip this step, as the project will be selected for you by default. You can also set the site you want to use via the `region_name` setting - this defaults to `CHI@UC`."
   ]
  },
  {
   "cell_type": "code",
   "execution_count": 1,
   "metadata": {},
   "outputs": [],
   "source": [
    "import chi\n",
    "\n",
    "chi.set('project_name', 'your project name') # Replace with your project name\n",
    "chi.set('region_name', 'CHI@UC')             # Optional, defaults to 'CHI@UC'"
   ]
  },
  {
   "cell_type": "markdown",
   "metadata": {},
   "source": [
    "## Launching a baremetal server\n",
    "\n",
    "Starting a new baremetal server is easy to do."
   ]
  },
  {
   "cell_type": "code",
   "execution_count": 2,
   "metadata": {},
   "outputs": [],
   "source": [
    "from chi.lease import Lease\n",
    "\n",
    "# Create a lease for 1 node\n",
    "lease = Lease(node_type='compute_haswell')\n",
    "lease.wait() # Ensure lease has started\n",
    "\n",
    "# Launch 1 server\n",
    "server = lease.create_server(image='CC-CentOS7')\n",
    "server.wait() # Ensure server has started"
   ]
  },
  {
   "cell_type": "markdown",
   "metadata": {},
   "source": [
    "## Connecting to your server\n",
    "\n",
    "By default, the server will only have a private IP assigned. In order to SSH to the server, you should assign a public floating IP. There are are limited amount of public IPs available across the entire Chameleon testbed, so try to keep the amount of nodes with a public IP to a minimum! A common practice is to set up one node as a \"login node\" with a public IP, and logging in to that node to manage all of your project's nodes.\n",
    "\n",
    "Once a public IP is assigned, you can set up a remote connection to the node."
   ]
  },
  {
   "cell_type": "code",
   "execution_count": 6,
   "metadata": {},
   "outputs": [],
   "source": [
    "from chi.ssh import Remote\n",
    "\n",
    "# Assign a public floating IP\n",
    "server.associate_floating_ip()\n",
    "\n",
    "# Create a remote connection\n",
    "remote = Remote(server=server)"
   ]
  },
  {
   "cell_type": "markdown",
   "metadata": {},
   "source": [
    "You can use `remote.run` to run commands on the server directly from your Notebook.\n",
    "A similar command is `remote.sudo`, which runs a command with escalated privileges."
   ]
  },
  {
   "cell_type": "markdown",
   "metadata": {},
   "source": [
    "### Example command: get CPU usage"
   ]
  },
  {
   "cell_type": "code",
   "execution_count": null,
   "metadata": {},
   "outputs": [],
   "source": [
    "# Run some commands on your remote server\n",
    "cpu_usage = remote.run(\"grep 'cpu ' /proc/stat | awk '{usage=($2+$4)*100/($2+$4+$5)} END {print usage}'\", hide=True)\n",
    "\n",
    "print('Current CPU usage is {}%'.format(float(cpu_usage.stdout)))"
   ]
  }
 ],
 "metadata": {
  "kernelspec": {
   "display_name": "Python 3",
   "language": "python",
   "name": "python3"
  },
  "language_info": {
   "codemirror_mode": {
    "name": "ipython",
    "version": 3
   },
   "file_extension": ".py",
   "mimetype": "text/x-python",
   "name": "python",
   "nbconvert_exporter": "python",
   "pygments_lexer": "ipython3",
   "version": "3.6.5"
  }
 },
 "nbformat": 4,
 "nbformat_minor": 2
}
